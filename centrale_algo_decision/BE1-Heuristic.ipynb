{
 "cells": [
  {
   "cell_type": "code",
   "execution_count": 1,
   "metadata": {},
   "outputs": [],
   "source": [
    "import pandas as pd\n",
    "from itertools import permutations\n",
    "import numpy as np\n",
    "import random"
   ]
  },
  {
   "cell_type": "code",
   "execution_count": 28,
   "metadata": {},
   "outputs": [],
   "source": [
    "distance_matrix = [\n",
    "    [0, 10, 15, 20],\n",
    "    [10, 0, 35, 25],\n",
    "    [15, 35, 0, 30],\n",
    "    [20, 25, 30, 0]\n",
    "]\n",
    "\n",
    "distance_matrix_bis = 100 * np.random.rand(100,100)"
   ]
  },
  {
   "cell_type": "code",
   "execution_count": 43,
   "metadata": {},
   "outputs": [
    {
     "name": "stdout",
     "output_type": "stream",
     "text": [
      "(80, [0, 1, 3, 2, 0])\n"
     ]
    }
   ],
   "source": [
    "def exact_method(distance_matrix, circular=True):\n",
    "    n = len(distance_matrix)\n",
    "    cities = range(n)\n",
    "    min_cost = float('inf')\n",
    "    best_route = None\n",
    "    for perm in permutations(cities):\n",
    "        perm = list(perm)\n",
    "        cost = sum(distance_matrix[perm[i]][perm[i + 1]] for i in range(n - 1))\n",
    "        if circular:\n",
    "            cost += distance_matrix[perm[-1]][perm[0]]\n",
    "            \n",
    "            perm.append(perm[0])\n",
    "        if cost < min_cost:\n",
    "            min_cost = cost\n",
    "            best_route = perm\n",
    "    return min_cost, best_route\n",
    "\n",
    "print(exact_method(distance_matrix))\n",
    "\n"
   ]
  },
  {
   "cell_type": "code",
   "execution_count": 48,
   "metadata": {},
   "outputs": [
    {
     "name": "stdout",
     "output_type": "stream",
     "text": [
      "(478.72550666795485, [0, 72, 49, 5, 16, 37, 87, 27, 54, 59, 79, 52, 43, 78, 36, 24, 53, 97, 46, 18, 1, 89, 48, 91, 81, 94, 85, 64, 40, 11, 23, 39, 88, 55, 58, 21, 7, 57, 95, 29, 66, 32, 82, 38, 3, 17, 61, 15, 90, 42, 65, 75, 34, 47, 84, 12, 63, 50, 13, 31, 93, 67, 70, 41, 35, 69, 22, 14, 9, 8, 2, 68, 6, 76, 25, 71, 28, 56, 26, 74, 4, 62, 86, 51, 73, 10, 33, 45, 96, 98, 19, 30, 20, 99, 77, 80, 44, 92, 83, 60, 0])\n"
     ]
    }
   ],
   "source": [
    "\n",
    "def Glouton(distance_matrix,circular =True):\n",
    "    n = len(distance_matrix)\n",
    "    unvisited = set(range(n))\n",
    "    current_city = 0\n",
    "    tour = [current_city]\n",
    "    unvisited.remove(current_city)\n",
    "    while unvisited:\n",
    "        next_city = min(unvisited, key=lambda city: distance_matrix[current_city][city])\n",
    "        tour.append(next_city)\n",
    "        unvisited.remove(next_city)\n",
    "        current_city = next_city\n",
    "    if circular:\n",
    "        tour.append(tour[0])\n",
    "    cost = sum(distance_matrix[tour[i]][tour[i + 1]] for i in range(len(tour) - 1))\n",
    "    return cost, tour\n",
    "\n",
    "\n",
    "\n",
    "print(Glouton(distance_matrix_bis))\n"
   ]
  },
  {
   "cell_type": "code",
   "execution_count": 31,
   "metadata": {},
   "outputs": [
    {
     "name": "stdout",
     "output_type": "stream",
     "text": [
      "(2506.6590787153805, [83, 92, 96, 16, 37, 7, 56, 6, 88, 0, 34, 59, 4, 52, 25, 94, 1, 90, 39, 18, 80, 23, 33, 41, 71, 62, 86, 89, 69, 93, 43, 79, 27, 63, 50, 91, 31, 48, 45, 11, 30, 76, 98, 57, 77, 3, 74, 26, 84, 64, 95, 61, 14, 44, 70, 28, 73, 51, 85, 42, 87, 82, 10, 60, 78, 40, 21, 81, 53, 47, 20, 9, 35, 8, 99, 32, 67, 66, 29, 15, 17, 12, 49, 68, 2, 54, 19, 65, 55, 72, 24, 13, 97, 58, 46, 75, 36, 5, 38, 22])\n"
     ]
    }
   ],
   "source": [
    "def simulated_annealing(distance_matrix, initial_temp=1000, cooling_rate=0.995, max_iter=1000, circular=True):\n",
    "    n = len(distance_matrix)\n",
    "    current_solution = list(range(n))\n",
    "    random.shuffle(current_solution)\n",
    "    if circular:\n",
    "        current_cost = sum(distance_matrix[current_solution[i]][current_solution[(i + 1) % n]] for i in range(n))\n",
    "    else:\n",
    "        current_cost = sum(distance_matrix[current_solution[i]][current_solution[i + 1]] for i in range(n - 1))\n",
    "    best_solution = current_solution[:]\n",
    "    best_cost = current_cost\n",
    "    temp = initial_temp\n",
    "    for _ in range(max_iter):\n",
    "        i, j = random.sample(range(n), 2)\n",
    "        new_solution = current_solution[:]\n",
    "        new_solution[i], new_solution[j] = new_solution[j], new_solution[i]\n",
    "        if circular:\n",
    "            new_cost = sum(distance_matrix[new_solution[i]][new_solution[(i + 1) % n]] for i in range(n))\n",
    "        else:\n",
    "            new_cost = sum(distance_matrix[new_solution[i]][new_solution[i + 1]] for i in range(n - 1))\n",
    "        if new_cost < current_cost or random.random() < np.exp((current_cost - new_cost) / temp):\n",
    "            current_solution = new_solution\n",
    "            current_cost = new_cost\n",
    "            if new_cost < best_cost:\n",
    "                best_solution = new_solution\n",
    "                best_cost = new_cost\n",
    "        temp *= cooling_rate\n",
    "    return best_cost, best_solution\n",
    "\n",
    "\n",
    "print(simulated_annealing(distance_matrix_bis))\n"
   ]
  },
  {
   "cell_type": "code",
   "execution_count": 57,
   "metadata": {},
   "outputs": [
    {
     "name": "stdout",
     "output_type": "stream",
     "text": [
      "(80, [0, 1, 3, 2, 0])\n"
     ]
    }
   ],
   "source": [
    "\n",
    "def ant_colony_optimization(distance_matrix, n_ants=20, n_iterations=100, alpha=1, beta=5, evaporation_rate=0.5, circular=True):\n",
    "    n = len(distance_matrix)\n",
    "    pheromone = np.ones((n, n))\n",
    "    visibility = 1 / (np.array(distance_matrix) + 1e-10)\n",
    "    for _ in range(n_iterations):\n",
    "        all_tours = []\n",
    "        for _ in range(n_ants):\n",
    "            tour = [random.randint(0, n - 1)]\n",
    "            while len(tour) < n:\n",
    "                current_city = tour[-1]\n",
    "                probabilities = [(pheromone[current_city][j] ** alpha) * (visibility[current_city][j] ** beta) if j not in tour else 0 for j in range(n)]\n",
    "                probabilities = np.array(probabilities) / sum(probabilities)\n",
    "                next_city = np.random.choice(range(n), p=probabilities)\n",
    "                tour.append(next_city)\n",
    "            all_tours.append(tour)\n",
    "        pheromone *= (1 - evaporation_rate)\n",
    "        for tour in all_tours:\n",
    "            if circular:\n",
    "                cost = sum(distance_matrix[tour[i]][tour[(i + 1) % n]] for i in range(n))\n",
    "                tour.append(tour[0])\n",
    "            else:\n",
    "                cost = sum(distance_matrix[tour[i]][tour[i + 1]] for i in range(n - 1))\n",
    "            for i in range(n if circular else n - 1):\n",
    "                pheromone[tour[i]][tour[(i + 1) % n if circular else i + 1]] += 1 / cost\n",
    "    best_tour = min(all_tours, key=lambda tour: sum(distance_matrix[tour[i]][tour[(i + 1) % n]] for i in range(n)) if circular else sum(distance_matrix[tour[i]][tour[i + 1]] for i in range(n - 1)))\n",
    "    best_cost = sum(distance_matrix[best_tour[i]][best_tour[(i + 1) % n]] for i in range(n)) if circular else sum(distance_matrix[best_tour[i]][best_tour[i + 1]] for i in range(n - 1))\n",
    "    return best_cost, best_tour\n",
    "\n",
    "print(ant_colony_optimization(distance_matrix,circular = True))"
   ]
  },
  {
   "cell_type": "markdown",
   "metadata": {},
   "source": [
    "# Optimisation d'une fonction avec beaucoup de minima locaux"
   ]
  },
  {
   "cell_type": "code",
   "execution_count": null,
   "metadata": {},
   "outputs": [],
   "source": []
  }
 ],
 "metadata": {
  "kernelspec": {
   "display_name": ".venv",
   "language": "python",
   "name": "python3"
  },
  "language_info": {
   "codemirror_mode": {
    "name": "ipython",
    "version": 3
   },
   "file_extension": ".py",
   "mimetype": "text/x-python",
   "name": "python",
   "nbconvert_exporter": "python",
   "pygments_lexer": "ipython3",
   "version": "3.12.4"
  }
 },
 "nbformat": 4,
 "nbformat_minor": 2
}
